{
 "cells": [
  {
   "attachments": {},
   "cell_type": "markdown",
   "metadata": {},
   "source": [
    "# Saving logits of original and adversarially attacked inputs"
   ]
  },
  {
   "cell_type": "markdown",
   "metadata": {},
   "source": [
    "The \"hack\" below allows absolute path imports as if the notebook was a py-file run with `python -m abs.path.to.file.filename`"
   ]
  },
  {
   "cell_type": "code",
   "execution_count": 1,
   "metadata": {},
   "outputs": [],
   "source": [
    "import sys\n",
    "root_dir = !cd .. &&pwd\n",
    "root_dir = root_dir[0] + \"/\"\n",
    "sys.path.insert(0, root_dir)"
   ]
  },
  {
   "cell_type": "code",
   "execution_count": 2,
   "metadata": {},
   "outputs": [
    {
     "name": "stdout",
     "output_type": "stream",
     "text": [
      "/Users/gunder/Desktop/bachelor_project/\n"
     ]
    }
   ],
   "source": [
    "print(root_dir)"
   ]
  },
  {
   "cell_type": "markdown",
   "metadata": {},
   "source": [
    "### Imports"
   ]
  },
  {
   "cell_type": "code",
   "execution_count": 3,
   "metadata": {},
   "outputs": [],
   "source": [
    "import torch\n",
    "import numpy as np\n",
    "import matplotlib.pyplot as plt\n",
    "\n",
    "from models.classifier32 import classifier32\n",
    "\n",
    "from our_modules.tin_tools import get_avg_osr_auroc_across_splits\n",
    "from our_modules.tin_tools import transform_range as tin_clip_range\n",
    "\n",
    "from our_modules.adv_tools import fp_osr_fgsm, fn_osr_fgsm, fp_osr_fgsm_sum_exp\n",
    "\n"
   ]
  },
  {
   "cell_type": "markdown",
   "metadata": {},
   "source": [
    "### Setting the Device"
   ]
  },
  {
   "cell_type": "code",
   "execution_count": 4,
   "metadata": {},
   "outputs": [
    {
     "name": "stdout",
     "output_type": "stream",
     "text": [
      "device: mps\n"
     ]
    }
   ],
   "source": [
    "if sys.platform == 'darwin':\n",
    "    device = torch.device(\"mps\")\n",
    "else:\n",
    "    gpu = torch.cuda.is_available()\n",
    "    device = torch.device(\"cuda:0\" if gpu else \"cpu\")\n",
    "\n",
    "print(\"device:\", device)"
   ]
  },
  {
   "attachments": {},
   "cell_type": "markdown",
   "metadata": {},
   "source": [
    "## tiny-imagenet"
   ]
  },
  {
   "cell_type": "code",
   "execution_count": 5,
   "metadata": {},
   "outputs": [],
   "source": [
    "path_to_pretrained_weights_folder = root_dir + \"pretrained_weights/\"\n",
    "tin_val_root_dir = root_dir + \"datasets/tiny-imagenet-200/val/images/\"\n",
    "tin_logits_dir = root_dir + \"logits/tinyimagenet/\""
   ]
  },
  {
   "attachments": {},
   "cell_type": "markdown",
   "metadata": {},
   "source": [
    "### Saving plain logits"
   ]
  },
  {
   "cell_type": "code",
   "execution_count": 6,
   "metadata": {},
   "outputs": [],
   "source": [
    "#get_avg_osr_auroc_across_splits(path_to_pretrained_weights_folder, tin_val_root_dir, device, logdir=tin_logits_dir + \"plain/\")"
   ]
  },
  {
   "attachments": {},
   "cell_type": "markdown",
   "metadata": {},
   "source": [
    "### Savining Advesarial Attacks Logits"
   ]
  },
  {
   "attachments": {},
   "cell_type": "markdown",
   "metadata": {},
   "source": [
    "#### FGSM for different epsilon"
   ]
  },
  {
   "attachments": {},
   "cell_type": "markdown",
   "metadata": {},
   "source": [
    "##### FN"
   ]
  },
  {
   "cell_type": "code",
   "execution_count": 7,
   "metadata": {},
   "outputs": [],
   "source": [
    "def fgsm_eps_experiment(eps_list, fgsm, logdir, number_of_splits=5, **fgsm_kwargs):\n",
    "    for eps in eps_list:\n",
    "        attack = (lambda x, y, model: fgsm(model, x, eps=eps, clip_range=tin_clip_range, **fgsm_kwargs))\n",
    "        get_avg_osr_auroc_across_splits(path_to_pretrained_weights_folder, tin_val_root_dir, device, logdir + f\"eps_{eps:.3}/\", adv_attack=attack, number_of_splits=number_of_splits)\n"
   ]
  },
  {
   "cell_type": "code",
   "execution_count": 12,
   "metadata": {},
   "outputs": [],
   "source": [
    "eps = np.logspace(np.log10(0.0001),np.log10(1), 25)"
   ]
  },
  {
   "cell_type": "code",
   "execution_count": 13,
   "metadata": {},
   "outputs": [
    {
     "data": {
      "text/plain": [
       "array([1.00000000e-04, 1.46779927e-04, 2.15443469e-04, 3.16227766e-04,\n",
       "       4.64158883e-04, 6.81292069e-04, 1.00000000e-03, 1.46779927e-03,\n",
       "       2.15443469e-03, 3.16227766e-03, 4.64158883e-03, 6.81292069e-03,\n",
       "       1.00000000e-02, 1.46779927e-02, 2.15443469e-02, 3.16227766e-02,\n",
       "       4.64158883e-02, 6.81292069e-02, 1.00000000e-01, 1.46779927e-01,\n",
       "       2.15443469e-01, 3.16227766e-01, 4.64158883e-01, 6.81292069e-01,\n",
       "       1.00000000e+00])"
      ]
     },
     "execution_count": 13,
     "metadata": {},
     "output_type": "execute_result"
    }
   ],
   "source": [
    "eps"
   ]
  },
  {
   "cell_type": "code",
   "execution_count": 14,
   "metadata": {},
   "outputs": [
    {
     "data": {
      "image/png": "[encoded data removed]",
      "text/plain": [
       "<Figure size 640x480 with 1 Axes>"
      ]
     },
     "metadata": {},
     "output_type": "display_data"
    }
   ],
   "source": [
    "fig, ax = plt.subplots(1,1)\n",
    "ax.scatter(eps, np.zeros_like(eps), marker ='|')\n",
    "plt.show()"
   ]
  },
  {
   "cell_type": "code",
   "execution_count": 15,
   "metadata": {},
   "outputs": [],
   "source": [
    "#fgsm_eps_experiment(eps, fn_osr_fgsm, tin_logits_dir + \"fn/fgsm/\", 1)"
   ]
  },
  {
   "attachments": {},
   "cell_type": "markdown",
   "metadata": {},
   "source": [
    "#### FP"
   ]
  },
  {
   "attachments": {},
   "cell_type": "markdown",
   "metadata": {},
   "source": [
    "2-norm"
   ]
  },
  {
   "cell_type": "code",
   "execution_count": 16,
   "metadata": {},
   "outputs": [
    {
     "name": "stderr",
     "output_type": "stream",
     "text": [
      "100%|██████████| 1/1 [01:32<00:00, 92.33s/it]\n",
      "100%|██████████| 1/1 [01:29<00:00, 89.11s/it]\n",
      "100%|██████████| 1/1 [01:27<00:00, 87.36s/it]\n",
      "100%|██████████| 1/1 [01:30<00:00, 90.41s/it]\n",
      "100%|██████████| 1/1 [01:31<00:00, 91.59s/it]\n",
      "100%|██████████| 1/1 [01:30<00:00, 91.00s/it]\n",
      "100%|██████████| 1/1 [01:30<00:00, 90.59s/it]\n",
      "100%|██████████| 1/1 [01:30<00:00, 90.92s/it]\n",
      "100%|██████████| 1/1 [01:31<00:00, 91.35s/it]\n",
      "100%|██████████| 1/1 [01:30<00:00, 90.98s/it]\n",
      "100%|██████████| 1/1 [01:30<00:00, 90.53s/it]\n",
      "100%|██████████| 1/1 [01:30<00:00, 90.79s/it]\n",
      "100%|██████████| 1/1 [01:30<00:00, 90.14s/it]\n",
      "100%|██████████| 1/1 [01:30<00:00, 90.56s/it]\n",
      "100%|██████████| 1/1 [01:30<00:00, 90.11s/it]\n",
      "100%|██████████| 1/1 [01:30<00:00, 90.29s/it]\n",
      "100%|██████████| 1/1 [01:30<00:00, 90.33s/it]\n",
      "100%|██████████| 1/1 [01:30<00:00, 90.77s/it]\n",
      "100%|██████████| 1/1 [01:30<00:00, 90.40s/it]\n",
      "100%|██████████| 1/1 [01:30<00:00, 91.00s/it]\n",
      "100%|██████████| 1/1 [01:31<00:00, 91.02s/it]\n",
      "100%|██████████| 1/1 [01:30<00:00, 90.12s/it]\n",
      "100%|██████████| 1/1 [01:30<00:00, 90.35s/it]\n",
      "100%|██████████| 1/1 [01:30<00:00, 90.20s/it]\n",
      "100%|██████████| 1/1 [01:30<00:00, 90.25s/it]\n"
     ]
    }
   ],
   "source": [
    "#fgsm_eps_experiment(eps_list=eps, fgsm=fp_osr_fgsm, logdir=tin_logits_dir + \"fp/fgsm/two_norm/\", number_of_splits=1, norm_ord=None)\n",
    "#fgsm_eps_experiment(eps_list=eps, fgsm=fp_osr_fgsm, logdir=tin_logits_dir + \"fp/fgsm/inf_norm/\", number_of_splits=1, norm_ord=torch.inf)\n",
    "fgsm_eps_experiment(eps_list=eps, fgsm=fp_osr_fgsm_sum_exp, logdir=tin_logits_dir + \"fp/fgsm/sum_exp/\", number_of_splits=1)"
   ]
  },
  {
   "cell_type": "code",
   "execution_count": 8,
   "metadata": {},
   "outputs": [
    {
     "name": "stderr",
     "output_type": "stream",
     "text": [
      "  0%|          | 0/5 [00:00<?, ?it/s]/Users/gunder/Desktop/bachelor_project/our_modules/adv_tools.py:25: UserWarning: The operator 'aten::linalg_vector_norm' is not currently supported on the MPS backend and will fall back to run on the CPU. This may have performance implications. (Triggered internally at /Users/runner/work/_temp/anaconda/conda-bld/pytorch_1670525849783/work/aten/src/ATen/mps/MPSFallback.mm:11.)\n",
      "  return fgsm(model, x, torch.zeros(len(x)), -eps, lambda y_hat, y: torch.linalg.norm(y_hat, dim=-1, ord=None))\n",
      "100%|██████████| 5/5 [15:44<00:00, 188.92s/it]\n"
     ]
    },
    {
     "data": {
      "text/plain": [
       "0.7287193666666666"
      ]
     },
     "execution_count": 8,
     "metadata": {},
     "output_type": "execute_result"
    }
   ],
   "source": [
    "#get_avg_osr_auroc_across_splits(path_to_pretrained_weights_folder, tin_val_root_dir, device, logdir=root_dir + \"logits/tinyimagenet/\", adv_attack=fgsm_fp_attack, adv_attack_name='fgsm_fp_attack')\n",
    "# get_avg_osr_auroc_across_splits(path_to_pretrained_weights_folder, tin_val_root_dir, device, logdir=root_dir + \"logits/tinyimagenet/\", adv_attack=fgsm_fn_attack, adv_attack_name='fgsm_fn_attack')"
   ]
  },
  {
   "cell_type": "code",
   "execution_count": null,
   "metadata": {},
   "outputs": [],
   "source": []
  }
 ],
 "metadata": {
  "kernelspec": {
   "display_name": "bsc",
   "language": "python",
   "name": "bsc"
  },
  "language_info": {
   "codemirror_mode": {
    "name": "ipython",
    "version": 3
   },
   "file_extension": ".py",
   "mimetype": "text/x-python",
   "name": "python",
   "nbconvert_exporter": "python",
   "pygments_lexer": "ipython3",
   "version": "3.10.9"
  },
  "orig_nbformat": 4
 },
 "nbformat": 4,
 "nbformat_minor": 2
}
