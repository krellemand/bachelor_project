{
 "cells": [
  {
   "attachments": {},
   "cell_type": "markdown",
   "metadata": {},
   "source": [
    "# Saving logits of original and adversarially attacked inputs"
   ]
  },
  {
   "attachments": {},
   "cell_type": "markdown",
   "metadata": {},
   "source": [
    "The \"hack\" below allows absolute path imports as if the notebook was a py-file run with `python -m abs.path.to.file.filename`"
   ]
  },
  {
   "cell_type": "code",
   "execution_count": 2,
   "metadata": {},
   "outputs": [],
   "source": [
    "import sys\n",
    "root_dir = !cd .. &&pwd\n",
    "root_dir = root_dir[0] + \"/\"\n",
    "sys.path.insert(0, root_dir)"
   ]
  },
  {
   "cell_type": "code",
   "execution_count": 3,
   "metadata": {},
   "outputs": [
    {
     "name": "stdout",
     "output_type": "stream",
     "text": [
      "/Users/gunder/Desktop/bachelor_project/\n"
     ]
    }
   ],
   "source": [
    "print(root_dir)"
   ]
  },
  {
   "attachments": {},
   "cell_type": "markdown",
   "metadata": {},
   "source": [
    "### Imports"
   ]
  },
  {
   "cell_type": "code",
   "execution_count": 4,
   "metadata": {},
   "outputs": [],
   "source": [
    "import torch\n",
    "import numpy as np\n",
    "import matplotlib.pyplot as plt\n",
    "import os\n",
    "\n",
    "from models.classifier32 import classifier32\n",
    "\n",
    "from our_modules.tin_tools import get_avg_osr_auroc_across_splits\n",
    "from our_modules.tin_tools import transform_range as tin_clip_range\n",
    "from our_modules.tin_tools import save_grad_norms_across_splits\n",
    "from our_modules.tin_tools import save_informed_attack\n",
    "\n",
    "from our_modules.adv_tools import fp_osr_fgsm, fn_osr_fgsm, fp_osr_fgsm_sum_exp, fn_osr_fgsm_log_msp, fn_osr_fgsm_sum_exp, fn_osr_fgsm_max, fp_osr_fgsm_max\n",
    "from our_modules.adv_tools import log_msp_loss\n",
    "from our_modules.adv_tools import fp_osr_itat, fn_osr_itat, fp_osr_itat_max, fn_osr_itat_max\n",
    "from our_modules.adv_tools import norm_loss\n",
    "\n"
   ]
  },
  {
   "attachments": {},
   "cell_type": "markdown",
   "metadata": {},
   "source": [
    "### Setting the Device"
   ]
  },
  {
   "cell_type": "code",
   "execution_count": 5,
   "metadata": {},
   "outputs": [
    {
     "name": "stdout",
     "output_type": "stream",
     "text": [
      "device: mps\n"
     ]
    }
   ],
   "source": [
    "if sys.platform == 'darwin':\n",
    "    device = torch.device(\"mps\")\n",
    "else:\n",
    "    gpu = torch.cuda.is_available()\n",
    "    device = torch.device(\"cuda:0\" if gpu else \"cpu\")\n",
    "\n",
    "print(\"device:\", device)"
   ]
  },
  {
   "attachments": {},
   "cell_type": "markdown",
   "metadata": {},
   "source": [
    "## tiny-imagenet"
   ]
  },
  {
   "cell_type": "code",
   "execution_count": 6,
   "metadata": {},
   "outputs": [],
   "source": [
    "path_to_pretrained_weights_folder = root_dir + \"pretrained_weights/\"\n",
    "tin_val_root_dir = root_dir + \"datasets/tiny-imagenet-200/val/images/\"\n",
    "tin_logits_dir = root_dir + \"logits/tinyimagenet/\"\n",
    "tin_grad_norms_dir = root_dir + 'grad_norms/tinyimagenet/'"
   ]
  },
  {
   "attachments": {},
   "cell_type": "markdown",
   "metadata": {},
   "source": [
    "### Saving plain logits"
   ]
  },
  {
   "cell_type": "code",
   "execution_count": 7,
   "metadata": {},
   "outputs": [],
   "source": [
    "#get_avg_osr_auroc_across_splits(path_to_pretrained_weights_folder, tin_val_root_dir, device, logdir=tin_logits_dir + \"plain/\")"
   ]
  },
  {
   "attachments": {},
   "cell_type": "markdown",
   "metadata": {},
   "source": [
    "### Savining Advesarial Attacks Logits"
   ]
  },
  {
   "attachments": {},
   "cell_type": "markdown",
   "metadata": {},
   "source": [
    "#### FGSM for different epsilon"
   ]
  },
  {
   "attachments": {},
   "cell_type": "markdown",
   "metadata": {},
   "source": [
    "##### FN"
   ]
  },
  {
   "cell_type": "code",
   "execution_count": null,
   "metadata": {},
   "outputs": [],
   "source": []
  },
  {
   "cell_type": "code",
   "execution_count": 8,
   "metadata": {},
   "outputs": [],
   "source": [
    "# eps = np.array([1.2, 1.4, 1.6, 1.8, 2.0, 2.25, 2.50, 2.75, 3.0, 4.0])\n",
    "# eps = list(np.linspace(0.11,0.19,5))\n",
    "epsfn = [float(name[4:]) for name in os.listdir(root_dir + 'logits/tinyimagenet/fn/fgsm/inf_norm')]\n",
    "epsfp = [float(name[4:]) for name in os.listdir(root_dir + 'logits/tinyimagenet/fp/fgsm/inf_norm')]"
   ]
  },
  {
   "cell_type": "code",
   "execution_count": 27,
   "metadata": {},
   "outputs": [
    {
     "data": {
      "image/png": "[encoded data removed]",
      "text/plain": [
       "<Figure size 640x480 with 1 Axes>"
      ]
     },
     "metadata": {},
     "output_type": "display_data"
    }
   ],
   "source": [
    "fig, ax = plt.subplots(1,1)\n",
    "eps = [0.033]\n",
    "ax.scatter(eps, np.zeros_like(eps), marker ='|')\n",
    "plt.show()\n"
   ]
  },
  {
   "cell_type": "code",
   "execution_count": 28,
   "metadata": {},
   "outputs": [],
   "source": [
    "#fgsm_eps_experiment(eps, fn_osr_fgsm, tin_logits_dir + \"fn/fgsm/\", 1)"
   ]
  },
  {
   "cell_type": "code",
   "execution_count": 29,
   "metadata": {},
   "outputs": [],
   "source": [
    "def eps_experiment(eps_list, eps_attack, logdir, number_of_splits=5, **eps_attack_kwargs):\n",
    "    for eps in eps_list:\n",
    "        attack = (lambda yhat, y, model: eps_attack(model, yhat, eps=eps, clip_range=tin_clip_range, **eps_attack_kwargs))\n",
    "        get_avg_osr_auroc_across_splits(path_to_pretrained_weights_folder, tin_val_root_dir, device, logdir + f\"eps_{eps:.3}/\", adv_attack=attack, number_of_splits=number_of_splits, batch_size=100)\n"
   ]
  },
  {
   "cell_type": "code",
   "execution_count": 30,
   "metadata": {},
   "outputs": [
    {
     "name": "stderr",
     "output_type": "stream",
     "text": [
      "100%|██████████| 1/1 [01:40<00:00, 100.89s/it]\n"
     ]
    }
   ],
   "source": [
    "eps_experiment(eps_list=eps, eps_attack=fp_osr_fgsm, logdir=tin_logits_dir + \"fp/fgsm/two_norm/\", number_of_splits=1, norm_ord=None)\n",
    "# eps_experiment(eps_list=eps, eps_attack=fp_osr_fgsm, logdir=tin_logits_dir + \"fp/fgsm/inf_norm/\", number_of_splits=1, norm_ord=torch.inf)\n",
    "# eps_experiment(eps_list=eps, eps_attack=fp_osr_fgsm_sum_exp, logdir=tin_logits_dir + \"fp/fgsm/sum_exp/\", number_of_splits=1)\n",
    "# eps_experiment(eps_list=eps, eps_attack=fn_osr_fgsm, logdir=tin_logits_dir + \"fn/fgsm/inf_norm/\", number_of_splits=1, norm_ord=torch.inf)\n",
    "# eps_experiment(eps_list=eps, eps_attack=fn_osr_fgsm_log_msp, logdir=tin_logits_dir + \"fn/fgsm/log_msp/\", number_of_splits=1)\n",
    "# eps_experiment(eps_list=eps, eps_attack=fn_osr_fgsm_sum_exp, logdir=tin_logits_dir + \"fn/fgsm/sum_exp/\", number_of_splits=1)\n",
    "# eps_experiment(eps_list=eps, eps_attack=fn_osr_fgsm, logdir=tin_logits_dir + \"fn/fgsm/two_norm/\", number_of_splits=1, norm_ord=None)\n",
    "# eps_experiment(eps_list=eps, eps_attack=fn_osr_fgsm_max, logdir=tin_logits_dir + \"fn/fgsm/max/\", number_of_splits=1)\n",
    "# eps_experiment(eps_list=eps, eps_attack=fp_osr_fgsm_max, logdir=tin_logits_dir + \"fp/fgsm/max/\", number_of_splits=1)\n"
   ]
  },
  {
   "attachments": {},
   "cell_type": "markdown",
   "metadata": {},
   "source": [
    "### Saving Grad Norms \n",
    "Testing Odin paper"
   ]
  },
  {
   "cell_type": "code",
   "execution_count": 19,
   "metadata": {},
   "outputs": [],
   "source": [
    "#save_grad_norms_across_splits(path_to_pretrained_weights_folder, tin_val_root_dir, tin_grad_norms_dir + 'log_msp/', log_msp_loss, device, number_of_splits=5)"
   ]
  },
  {
   "attachments": {},
   "cell_type": "markdown",
   "metadata": {},
   "source": [
    "### Informed Attack"
   ]
  },
  {
   "cell_type": "code",
   "execution_count": 32,
   "metadata": {},
   "outputs": [],
   "source": [
    "save_informed_attack(tin_logits_dir + 'informed/fgsm/exp1/',\n",
    "                     tin_logits_dir + 'fn/fgsm/max/eps_0.07/', \n",
    "                     tin_logits_dir + 'fp/fgsm/two_norm/eps_0.0418/', 0)\n",
    "save_informed_attack(tin_logits_dir + 'informed/fgsm/exp2/', \n",
    "                     tin_logits_dir + 'plain/', \n",
    "                     tin_logits_dir + 'fp/fgsm/two_norm/eps_0.0418/', 0)\n",
    "save_informed_attack(tin_logits_dir + 'informed/fgsm/exp3/',\n",
    "                     tin_logits_dir + 'fn/fgsm/max/eps_0.07/', \n",
    "                     tin_logits_dir + 'plain/', 0)"
   ]
  },
  {
   "attachments": {},
   "cell_type": "markdown",
   "metadata": {},
   "source": [
    "## Saving Iterative Attacks"
   ]
  },
  {
   "cell_type": "code",
   "execution_count": 26,
   "metadata": {},
   "outputs": [
    {
     "name": "stderr",
     "output_type": "stream",
     "text": [
      "  0%|          | 0/1 [06:00<?, ?it/s]\n"
     ]
    },
    {
     "ename": "KeyboardInterrupt",
     "evalue": "",
     "output_type": "error",
     "traceback": [
      "\u001b[0;31m---------------------------------------------------------------------------\u001b[0m",
      "\u001b[0;31mKeyboardInterrupt\u001b[0m                         Traceback (most recent call last)",
      "\u001b[1;32m/Users/gunder/Desktop/bachelor_project/notebooks/save_logits.ipynb Cell 27\u001b[0m in \u001b[0;36m<cell line: 2>\u001b[0;34m()\u001b[0m\n\u001b[1;32m      <a href='vscode-notebook-cell:/Users/gunder/Desktop/bachelor_project/notebooks/save_logits.ipynb#X35sZmlsZQ%3D%3D?line=0'>1</a>\u001b[0m \u001b[39m# eps_experiment([0.139], eps_attack=fn_osr_itat, logdir=tin_logits_dir + 'fn/itat/inf_norm/', norm_ord=torch.inf, max_iter=25, step_sizes=(1e-06, 1), number_of_splits=1)\u001b[39;00m\n\u001b[0;32m----> <a href='vscode-notebook-cell:/Users/gunder/Desktop/bachelor_project/notebooks/save_logits.ipynb#X35sZmlsZQ%3D%3D?line=1'>2</a>\u001b[0m eps_experiment([\u001b[39m0.07\u001b[39;49m], eps_attack\u001b[39m=\u001b[39;49mfp_osr_itat, logdir\u001b[39m=\u001b[39;49mtin_logits_dir \u001b[39m+\u001b[39;49m \u001b[39m'\u001b[39;49m\u001b[39mfp/itat/two_norm/\u001b[39;49m\u001b[39m'\u001b[39;49m, norm_ord\u001b[39m=\u001b[39;49m\u001b[39mNone\u001b[39;49;00m, max_iter\u001b[39m=\u001b[39;49m\u001b[39m25\u001b[39;49m, step_sizes\u001b[39m=\u001b[39;49m(\u001b[39m1e-06\u001b[39;49m, \u001b[39m1\u001b[39;49m), number_of_splits\u001b[39m=\u001b[39;49m\u001b[39m1\u001b[39;49m)\n\u001b[1;32m      <a href='vscode-notebook-cell:/Users/gunder/Desktop/bachelor_project/notebooks/save_logits.ipynb#X35sZmlsZQ%3D%3D?line=2'>3</a>\u001b[0m eps_experiment([\u001b[39m0.07\u001b[39m], eps_attack\u001b[39m=\u001b[39mfn_osr_itat_max, logdir\u001b[39m=\u001b[39mtin_logits_dir \u001b[39m+\u001b[39m \u001b[39m'\u001b[39m\u001b[39mfn/itat/max/\u001b[39m\u001b[39m'\u001b[39m, max_iter\u001b[39m=\u001b[39m\u001b[39m25\u001b[39m, step_sizes\u001b[39m=\u001b[39m(\u001b[39m1e-06\u001b[39m, \u001b[39m1\u001b[39m), number_of_splits\u001b[39m=\u001b[39m\u001b[39m1\u001b[39m)\n",
      "\u001b[1;32m/Users/gunder/Desktop/bachelor_project/notebooks/save_logits.ipynb Cell 27\u001b[0m in \u001b[0;36meps_experiment\u001b[0;34m(eps_list, eps_attack, logdir, number_of_splits, **eps_attack_kwargs)\u001b[0m\n\u001b[1;32m      <a href='vscode-notebook-cell:/Users/gunder/Desktop/bachelor_project/notebooks/save_logits.ipynb#X35sZmlsZQ%3D%3D?line=1'>2</a>\u001b[0m \u001b[39mfor\u001b[39;00m eps \u001b[39min\u001b[39;00m eps_list:\n\u001b[1;32m      <a href='vscode-notebook-cell:/Users/gunder/Desktop/bachelor_project/notebooks/save_logits.ipynb#X35sZmlsZQ%3D%3D?line=2'>3</a>\u001b[0m     attack \u001b[39m=\u001b[39m (\u001b[39mlambda\u001b[39;00m yhat, y, model: eps_attack(model, yhat, eps\u001b[39m=\u001b[39meps, clip_range\u001b[39m=\u001b[39mtin_clip_range, \u001b[39m*\u001b[39m\u001b[39m*\u001b[39meps_attack_kwargs))\n\u001b[0;32m----> <a href='vscode-notebook-cell:/Users/gunder/Desktop/bachelor_project/notebooks/save_logits.ipynb#X35sZmlsZQ%3D%3D?line=3'>4</a>\u001b[0m     get_avg_osr_auroc_across_splits(path_to_pretrained_weights_folder, tin_val_root_dir, device, logdir \u001b[39m+\u001b[39;49m \u001b[39mf\u001b[39;49m\u001b[39m\"\u001b[39;49m\u001b[39meps_\u001b[39;49m\u001b[39m{\u001b[39;49;00meps\u001b[39m:\u001b[39;49;00m\u001b[39m.3\u001b[39;49m\u001b[39m}\u001b[39;49;00m\u001b[39m/\u001b[39;49m\u001b[39m\"\u001b[39;49m, adv_attack\u001b[39m=\u001b[39;49mattack, number_of_splits\u001b[39m=\u001b[39;49mnumber_of_splits, batch_size\u001b[39m=\u001b[39;49m\u001b[39m100\u001b[39;49m)\n",
      "File \u001b[0;32m~/Desktop/bachelor_project/our_modules/tin_tools.py:147\u001b[0m, in \u001b[0;36mget_avg_osr_auroc_across_splits\u001b[0;34m(path_to_pretrained_weights_folder, tin_val_root_dir, device, logdir, batch_size, shuffle, adv_attack, number_of_splits)\u001b[0m\n\u001b[1;32m    145\u001b[0m     model \u001b[39m=\u001b[39m get_model_for_split(split_num, path_to_pretrained_weights_folder, device\u001b[39m=\u001b[39mdevice)\n\u001b[1;32m    146\u001b[0m     dataloader \u001b[39m=\u001b[39m get_osr_dataloader_for_split(split_num, tin_val_root_dir, batch_size\u001b[39m=\u001b[39mbatch_size, shuffle\u001b[39m=\u001b[39mshuffle)\n\u001b[0;32m--> 147\u001b[0m     auroc \u001b[39m=\u001b[39m evaluate_osr_auroc(model, dataloader, split_num, device\u001b[39m=\u001b[39;49mdevice, logdir\u001b[39m=\u001b[39;49mlogdir, adv_attack\u001b[39m=\u001b[39;49madv_attack)\n\u001b[1;32m    148\u001b[0m     aurocs \u001b[39m+\u001b[39m\u001b[39m=\u001b[39m auroc,\n\u001b[1;32m    150\u001b[0m \u001b[39mreturn\u001b[39;00m \u001b[39msum\u001b[39m(aurocs)\u001b[39m/\u001b[39m\u001b[39mlen\u001b[39m(aurocs)\n",
      "File \u001b[0;32m~/Desktop/bachelor_project/our_modules/tin_tools.py:123\u001b[0m, in \u001b[0;36mevaluate_osr_auroc\u001b[0;34m(model, dataloader, split_num, device, logdir, adv_attack)\u001b[0m\n\u001b[1;32m    121\u001b[0m target_batch \u001b[39m=\u001b[39m get_osr_targets(target_batch, split_num)\n\u001b[1;32m    122\u001b[0m target_batch \u001b[39m=\u001b[39m target_batch\u001b[39m.\u001b[39mto(device)\n\u001b[0;32m--> 123\u001b[0m input_batch \u001b[39m=\u001b[39m adv_attack(input_batch, target_batch, model) \u001b[39m# perform the adversarial attack\u001b[39;00m\n\u001b[1;32m    124\u001b[0m logits \u001b[39m=\u001b[39m model(input_batch)\u001b[39m.\u001b[39mdetach()\u001b[39m.\u001b[39mto(\u001b[39m'\u001b[39m\u001b[39mcpu\u001b[39m\u001b[39m'\u001b[39m)\n\u001b[1;32m    125\u001b[0m all_logits \u001b[39m+\u001b[39m\u001b[39m=\u001b[39m logits,\n",
      "\u001b[1;32m/Users/gunder/Desktop/bachelor_project/notebooks/save_logits.ipynb Cell 27\u001b[0m in \u001b[0;36meps_experiment.<locals>.<lambda>\u001b[0;34m(yhat, y, model)\u001b[0m\n\u001b[1;32m      <a href='vscode-notebook-cell:/Users/gunder/Desktop/bachelor_project/notebooks/save_logits.ipynb#X35sZmlsZQ%3D%3D?line=0'>1</a>\u001b[0m \u001b[39mdef\u001b[39;00m \u001b[39meps_experiment\u001b[39m(eps_list, eps_attack, logdir, number_of_splits\u001b[39m=\u001b[39m\u001b[39m5\u001b[39m, \u001b[39m*\u001b[39m\u001b[39m*\u001b[39meps_attack_kwargs):\n\u001b[1;32m      <a href='vscode-notebook-cell:/Users/gunder/Desktop/bachelor_project/notebooks/save_logits.ipynb#X35sZmlsZQ%3D%3D?line=1'>2</a>\u001b[0m     \u001b[39mfor\u001b[39;00m eps \u001b[39min\u001b[39;00m eps_list:\n\u001b[0;32m----> <a href='vscode-notebook-cell:/Users/gunder/Desktop/bachelor_project/notebooks/save_logits.ipynb#X35sZmlsZQ%3D%3D?line=2'>3</a>\u001b[0m         attack \u001b[39m=\u001b[39m (\u001b[39mlambda\u001b[39;00m yhat, y, model: eps_attack(model, yhat, eps\u001b[39m=\u001b[39;49meps, clip_range\u001b[39m=\u001b[39;49mtin_clip_range, \u001b[39m*\u001b[39;49m\u001b[39m*\u001b[39;49meps_attack_kwargs))\n\u001b[1;32m      <a href='vscode-notebook-cell:/Users/gunder/Desktop/bachelor_project/notebooks/save_logits.ipynb#X35sZmlsZQ%3D%3D?line=3'>4</a>\u001b[0m         get_avg_osr_auroc_across_splits(path_to_pretrained_weights_folder, tin_val_root_dir, device, logdir \u001b[39m+\u001b[39m \u001b[39mf\u001b[39m\u001b[39m\"\u001b[39m\u001b[39meps_\u001b[39m\u001b[39m{\u001b[39;00meps\u001b[39m:\u001b[39;00m\u001b[39m.3\u001b[39m\u001b[39m}\u001b[39;00m\u001b[39m/\u001b[39m\u001b[39m\"\u001b[39m, adv_attack\u001b[39m=\u001b[39mattack, number_of_splits\u001b[39m=\u001b[39mnumber_of_splits, batch_size\u001b[39m=\u001b[39m\u001b[39m100\u001b[39m)\n",
      "File \u001b[0;32m~/Desktop/bachelor_project/our_modules/adv_tools.py:94\u001b[0m, in \u001b[0;36mfp_osr_itat\u001b[0;34m(model, x, eps, clip_range, return_step, norm_ord, max_iter, torch_opt, threshold, adv_type, score_func, **opt_kwargs)\u001b[0m\n\u001b[1;32m     93\u001b[0m \u001b[39mdef\u001b[39;00m \u001b[39mfp_osr_itat\u001b[39m(model, x, eps\u001b[39m=\u001b[39m\u001b[39m0.05\u001b[39m, clip_range\u001b[39m=\u001b[39m(\u001b[39mNone\u001b[39;00m, \u001b[39mNone\u001b[39;00m), return_step\u001b[39m=\u001b[39m\u001b[39mFalse\u001b[39;00m, norm_ord\u001b[39m=\u001b[39m\u001b[39mNone\u001b[39;00m, max_iter\u001b[39m=\u001b[39m\u001b[39m25\u001b[39m, torch_opt\u001b[39m=\u001b[39mtorch\u001b[39m.\u001b[39moptim\u001b[39m.\u001b[39mRprop, threshold\u001b[39m=\u001b[39m\u001b[39mNone\u001b[39;00m, adv_type\u001b[39m=\u001b[39m\u001b[39m'\u001b[39m\u001b[39mfp\u001b[39m\u001b[39m'\u001b[39m, score_func\u001b[39m=\u001b[39m \u001b[39mlambda\u001b[39;00m logits: torch\u001b[39m.\u001b[39mamax(logits, dim\u001b[39m=\u001b[39m\u001b[39m-\u001b[39m\u001b[39m1\u001b[39m), \u001b[39m*\u001b[39m\u001b[39m*\u001b[39mopt_kwargs):\n\u001b[0;32m---> 94\u001b[0m     \u001b[39mreturn\u001b[39;00m iterative_attack(model, x, torch\u001b[39m.\u001b[39;49mzeros(\u001b[39mlen\u001b[39;49m(x)), \u001b[39mlambda\u001b[39;49;00m yhat, y: norm_loss(yhat, y, \u001b[39mord\u001b[39;49m\u001b[39m=\u001b[39;49mnorm_ord, dim\u001b[39m=\u001b[39;49m\u001b[39m-\u001b[39;49m\u001b[39m1\u001b[39;49m), torch_opt, clip_range\u001b[39m=\u001b[39;49mclip_range, eps\u001b[39m=\u001b[39;49meps, return_step\u001b[39m=\u001b[39;49mreturn_step, max_iter\u001b[39m=\u001b[39;49mmax_iter, threshold\u001b[39m=\u001b[39;49mthreshold, adv_type\u001b[39m=\u001b[39;49madv_type, score_func\u001b[39m=\u001b[39;49mscore_func, \u001b[39m*\u001b[39;49m\u001b[39m*\u001b[39;49mopt_kwargs)\n",
      "File \u001b[0;32m~/Desktop/bachelor_project/our_modules/adv_tools.py:78\u001b[0m, in \u001b[0;36miterative_attack\u001b[0;34m(model, xs, ys, loss_func, torch_optim, clip_range, eps, return_step, max_iter, threshold, adv_type, score_func, **opt_kwargs)\u001b[0m\n\u001b[1;32m     76\u001b[0m         \u001b[39mbreak\u001b[39;00m\n\u001b[1;32m     77\u001b[0m loss\u001b[39m.\u001b[39mbackward()\n\u001b[0;32m---> 78\u001b[0m optimizer\u001b[39m.\u001b[39;49mstep()\n\u001b[1;32m     79\u001b[0m \u001b[39mwith\u001b[39;00m torch\u001b[39m.\u001b[39mno_grad():\n\u001b[1;32m     80\u001b[0m     \u001b[39mif\u001b[39;00m eps \u001b[39mis\u001b[39;00m \u001b[39mnot\u001b[39;00m \u001b[39mNone\u001b[39;00m:\n",
      "File \u001b[0;32m/opt/homebrew/anaconda3/lib/python3.9/site-packages/torch/optim/optimizer.py:140\u001b[0m, in \u001b[0;36mOptimizer._hook_for_profile.<locals>.profile_hook_step.<locals>.wrapper\u001b[0;34m(*args, **kwargs)\u001b[0m\n\u001b[1;32m    138\u001b[0m profile_name \u001b[39m=\u001b[39m \u001b[39m\"\u001b[39m\u001b[39mOptimizer.step#\u001b[39m\u001b[39m{}\u001b[39;00m\u001b[39m.step\u001b[39m\u001b[39m\"\u001b[39m\u001b[39m.\u001b[39mformat(obj\u001b[39m.\u001b[39m\u001b[39m__class__\u001b[39m\u001b[39m.\u001b[39m\u001b[39m__name__\u001b[39m)\n\u001b[1;32m    139\u001b[0m \u001b[39mwith\u001b[39;00m torch\u001b[39m.\u001b[39mautograd\u001b[39m.\u001b[39mprofiler\u001b[39m.\u001b[39mrecord_function(profile_name):\n\u001b[0;32m--> 140\u001b[0m     out \u001b[39m=\u001b[39m func(\u001b[39m*\u001b[39;49margs, \u001b[39m*\u001b[39;49m\u001b[39m*\u001b[39;49mkwargs)\n\u001b[1;32m    141\u001b[0m     obj\u001b[39m.\u001b[39m_optimizer_step_code()\n\u001b[1;32m    142\u001b[0m     \u001b[39mreturn\u001b[39;00m out\n",
      "File \u001b[0;32m/opt/homebrew/anaconda3/lib/python3.9/site-packages/torch/autograd/grad_mode.py:27\u001b[0m, in \u001b[0;36m_DecoratorContextManager.__call__.<locals>.decorate_context\u001b[0;34m(*args, **kwargs)\u001b[0m\n\u001b[1;32m     24\u001b[0m \u001b[39m@functools\u001b[39m\u001b[39m.\u001b[39mwraps(func)\n\u001b[1;32m     25\u001b[0m \u001b[39mdef\u001b[39;00m \u001b[39mdecorate_context\u001b[39m(\u001b[39m*\u001b[39margs, \u001b[39m*\u001b[39m\u001b[39m*\u001b[39mkwargs):\n\u001b[1;32m     26\u001b[0m     \u001b[39mwith\u001b[39;00m \u001b[39mself\u001b[39m\u001b[39m.\u001b[39mclone():\n\u001b[0;32m---> 27\u001b[0m         \u001b[39mreturn\u001b[39;00m func(\u001b[39m*\u001b[39;49margs, \u001b[39m*\u001b[39;49m\u001b[39m*\u001b[39;49mkwargs)\n",
      "File \u001b[0;32m/opt/homebrew/anaconda3/lib/python3.9/site-packages/torch/optim/rprop.py:125\u001b[0m, in \u001b[0;36mRprop.step\u001b[0;34m(self, closure)\u001b[0m\n\u001b[1;32m    121\u001b[0m         step_sizes\u001b[39m.\u001b[39mappend(state[\u001b[39m'\u001b[39m\u001b[39mstep_size\u001b[39m\u001b[39m'\u001b[39m])\n\u001b[1;32m    123\u001b[0m         state[\u001b[39m'\u001b[39m\u001b[39mstep\u001b[39m\u001b[39m'\u001b[39m] \u001b[39m+\u001b[39m\u001b[39m=\u001b[39m \u001b[39m1\u001b[39m\n\u001b[0;32m--> 125\u001b[0m     rprop(params,\n\u001b[1;32m    126\u001b[0m           grads,\n\u001b[1;32m    127\u001b[0m           prevs,\n\u001b[1;32m    128\u001b[0m           step_sizes,\n\u001b[1;32m    129\u001b[0m           step_size_min\u001b[39m=\u001b[39;49mstep_size_min,\n\u001b[1;32m    130\u001b[0m           step_size_max\u001b[39m=\u001b[39;49mstep_size_max,\n\u001b[1;32m    131\u001b[0m           etaminus\u001b[39m=\u001b[39;49metaminus,\n\u001b[1;32m    132\u001b[0m           etaplus\u001b[39m=\u001b[39;49metaplus,\n\u001b[1;32m    133\u001b[0m           foreach\u001b[39m=\u001b[39;49mforeach,\n\u001b[1;32m    134\u001b[0m           maximize\u001b[39m=\u001b[39;49mmaximize)\n\u001b[1;32m    136\u001b[0m \u001b[39mreturn\u001b[39;00m loss\n",
      "File \u001b[0;32m/opt/homebrew/anaconda3/lib/python3.9/site-packages/torch/optim/rprop.py:169\u001b[0m, in \u001b[0;36mrprop\u001b[0;34m(params, grads, prevs, step_sizes, foreach, maximize, step_size_min, step_size_max, etaminus, etaplus)\u001b[0m\n\u001b[1;32m    166\u001b[0m \u001b[39melse\u001b[39;00m:\n\u001b[1;32m    167\u001b[0m     func \u001b[39m=\u001b[39m _single_tensor_rprop\n\u001b[0;32m--> 169\u001b[0m func(params,\n\u001b[1;32m    170\u001b[0m      grads,\n\u001b[1;32m    171\u001b[0m      prevs,\n\u001b[1;32m    172\u001b[0m      step_sizes,\n\u001b[1;32m    173\u001b[0m      step_size_min\u001b[39m=\u001b[39;49mstep_size_min,\n\u001b[1;32m    174\u001b[0m      step_size_max\u001b[39m=\u001b[39;49mstep_size_max,\n\u001b[1;32m    175\u001b[0m      etaminus\u001b[39m=\u001b[39;49metaminus,\n\u001b[1;32m    176\u001b[0m      etaplus\u001b[39m=\u001b[39;49metaplus,\n\u001b[1;32m    177\u001b[0m      maximize\u001b[39m=\u001b[39;49mmaximize)\n",
      "File \u001b[0;32m/opt/homebrew/anaconda3/lib/python3.9/site-packages/torch/optim/rprop.py:204\u001b[0m, in \u001b[0;36m_single_tensor_rprop\u001b[0;34m(params, grads, prevs, step_sizes, step_size_min, step_size_max, etaminus, etaplus, maximize)\u001b[0m\n\u001b[1;32m    201\u001b[0m     step_size \u001b[39m=\u001b[39m torch\u001b[39m.\u001b[39mview_as_real(step_size)\n\u001b[1;32m    203\u001b[0m sign \u001b[39m=\u001b[39m grad\u001b[39m.\u001b[39mmul(prev)\u001b[39m.\u001b[39msign()\n\u001b[0;32m--> 204\u001b[0m sign[sign\u001b[39m.\u001b[39mgt(\u001b[39m0\u001b[39m)] \u001b[39m=\u001b[39m etaplus\n\u001b[1;32m    205\u001b[0m sign[sign\u001b[39m.\u001b[39mlt(\u001b[39m0\u001b[39m)] \u001b[39m=\u001b[39m etaminus\n\u001b[1;32m    206\u001b[0m sign[sign\u001b[39m.\u001b[39meq(\u001b[39m0\u001b[39m)] \u001b[39m=\u001b[39m \u001b[39m1\u001b[39m\n",
      "\u001b[0;31mKeyboardInterrupt\u001b[0m: "
     ]
    }
   ],
   "source": [
    "# eps_experiment([0.139], eps_attack=fn_osr_itat, logdir=tin_logits_dir + 'fn/itat/inf_norm/', norm_ord=torch.inf, max_iter=25, step_sizes=(1e-06, 1), number_of_splits=1)\n",
    "eps_experiment([0.07], eps_attack=fp_osr_itat, logdir=tin_logits_dir + 'fp/itat/two_norm/', norm_ord=None, max_iter=25, step_sizes=(1e-06, 1), number_of_splits=1)\n",
    "eps_experiment([0.07], eps_attack=fn_osr_itat_max, logdir=tin_logits_dir + 'fn/itat/max/', max_iter=25, step_sizes=(1e-06, 1), number_of_splits=1)"
   ]
  },
  {
   "cell_type": "code",
   "execution_count": 13,
   "metadata": {},
   "outputs": [],
   "source": [
    "save_informed_attack(tin_logits_dir + 'informed/itat/exp1/',\n",
    "                     tin_logits_dir + 'fn/itat/max/eps_0.0622/', \n",
    "                     tin_logits_dir + 'fp/itat/two_norm/eps_0.0622/', 0)\n",
    "save_informed_attack(tin_logits_dir + 'informed/itat/exp2/', \n",
    "                     tin_logits_dir + 'plain/', \n",
    "                     tin_logits_dir + 'fp/itat/two_norm/eps_0.0622/', 0)\n",
    "save_informed_attack(tin_logits_dir + 'informed/itat/exp3/',\n",
    "                     tin_logits_dir + 'fn/itat/max/eps_0.0622/', \n",
    "                     tin_logits_dir + 'plain/', 0)"
   ]
  },
  {
   "cell_type": "code",
   "execution_count": null,
   "metadata": {},
   "outputs": [],
   "source": []
  }
 ],
 "metadata": {
  "kernelspec": {
   "display_name": "base",
   "language": "python",
   "name": "python3"
  },
  "language_info": {
   "codemirror_mode": {
    "name": "ipython",
    "version": 3
   },
   "file_extension": ".py",
   "mimetype": "text/x-python",
   "name": "python",
   "nbconvert_exporter": "python",
   "pygments_lexer": "ipython3",
   "version": "3.9.13"
  },
  "orig_nbformat": 4
 },
 "nbformat": 4,
 "nbformat_minor": 2
}
