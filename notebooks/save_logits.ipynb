{
 "cells": [
  {
   "attachments": {},
   "cell_type": "markdown",
   "metadata": {},
   "source": [
    "# Saving logits of original and adversarially attacked inputs"
   ]
  },
  {
   "attachments": {},
   "cell_type": "markdown",
   "metadata": {},
   "source": [
    "The \"hack\" below allows absolute path imports as if the notebook was a py-file run with `python -m abs.path.to.file.filename`"
   ]
  },
  {
   "cell_type": "code",
   "execution_count": 1,
   "metadata": {},
   "outputs": [],
   "source": [
    "import sys\n",
    "root_dir = !cd .. &&pwd\n",
    "root_dir = root_dir[0] + \"/\"\n",
    "sys.path.insert(0, root_dir)"
   ]
  },
  {
   "cell_type": "code",
   "execution_count": 2,
   "metadata": {},
   "outputs": [
    {
     "name": "stdout",
     "output_type": "stream",
     "text": [
      "/Users/gunder/Desktop/bachelor_project/\n"
     ]
    }
   ],
   "source": [
    "print(root_dir)"
   ]
  },
  {
   "attachments": {},
   "cell_type": "markdown",
   "metadata": {},
   "source": [
    "### Imports"
   ]
  },
  {
   "cell_type": "code",
   "execution_count": 3,
   "metadata": {},
   "outputs": [],
   "source": [
    "import torch\n",
    "import numpy as np\n",
    "import matplotlib.pyplot as plt\n",
    "import os\n",
    "\n",
    "from models.classifier32 import classifier32\n",
    "\n",
    "from our_modules.tin_tools import get_avg_osr_auroc_across_splits\n",
    "from our_modules.tin_tools import transform_range as tin_clip_range\n",
    "from our_modules.tin_tools import save_grad_norms_across_splits\n",
    "from our_modules.tin_tools import save_informed_attack\n",
    "\n",
    "from our_modules.adv_tools import fp_osr_fgsm, fn_osr_fgsm, fp_osr_fgsm_sum_exp, fn_osr_fgsm_log_msp, fn_osr_fgsm_sum_exp, fn_osr_fgsm_max, fp_osr_fgsm_max\n",
    "from our_modules.adv_tools import log_msp_loss\n",
    "from our_modules.adv_tools import fp_osr_itat, fn_osr_itat, fp_osr_itat_max, fn_osr_itat_max\n",
    "from our_modules.adv_tools import norm_loss\n",
    "\n"
   ]
  },
  {
   "attachments": {},
   "cell_type": "markdown",
   "metadata": {},
   "source": [
    "### Setting the Device"
   ]
  },
  {
   "cell_type": "code",
   "execution_count": 4,
   "metadata": {},
   "outputs": [
    {
     "name": "stdout",
     "output_type": "stream",
     "text": [
      "device: mps\n"
     ]
    }
   ],
   "source": [
    "if sys.platform == 'darwin':\n",
    "    device = torch.device(\"mps\")\n",
    "else:\n",
    "    gpu = torch.cuda.is_available()\n",
    "    device = torch.device(\"cuda:0\" if gpu else \"cpu\")\n",
    "\n",
    "print(\"device:\", device)"
   ]
  },
  {
   "attachments": {},
   "cell_type": "markdown",
   "metadata": {},
   "source": [
    "## tiny-imagenet"
   ]
  },
  {
   "cell_type": "code",
   "execution_count": 5,
   "metadata": {},
   "outputs": [],
   "source": [
    "path_to_pretrained_weights_folder = root_dir + \"pretrained_weights/\"\n",
    "tin_val_root_dir = root_dir + \"datasets/tiny-imagenet-200/val/images/\"\n",
    "tin_logits_dir = root_dir + \"logits/tinyimagenet/\"\n",
    "tin_grad_norms_dir = root_dir + 'grad_norms/tinyimagenet/'"
   ]
  },
  {
   "attachments": {},
   "cell_type": "markdown",
   "metadata": {},
   "source": [
    "### Saving plain logits"
   ]
  },
  {
   "cell_type": "code",
   "execution_count": 6,
   "metadata": {},
   "outputs": [],
   "source": [
    "#get_avg_osr_auroc_across_splits(path_to_pretrained_weights_folder, tin_val_root_dir, device, logdir=tin_logits_dir + \"plain/\")"
   ]
  },
  {
   "attachments": {},
   "cell_type": "markdown",
   "metadata": {},
   "source": [
    "### Savining Advesarial Attacks Logits"
   ]
  },
  {
   "attachments": {},
   "cell_type": "markdown",
   "metadata": {},
   "source": [
    "#### FGSM for different epsilon"
   ]
  },
  {
   "attachments": {},
   "cell_type": "markdown",
   "metadata": {},
   "source": [
    "##### FN"
   ]
  },
  {
   "cell_type": "code",
   "execution_count": null,
   "metadata": {},
   "outputs": [],
   "source": []
  },
  {
   "cell_type": "code",
   "execution_count": 7,
   "metadata": {},
   "outputs": [],
   "source": [
    "# eps = np.array([1.2, 1.4, 1.6, 1.8, 2.0, 2.25, 2.50, 2.75, 3.0, 4.0])\n",
    "# eps = list(np.linspace(0.11,0.19,5))\n",
    "epsfn = [float(name[4:]) for name in os.listdir(root_dir + 'logits/tinyimagenet/fn/fgsm/inf_norm')]\n",
    "epsfp = [float(name[4:]) for name in os.listdir(root_dir + 'logits/tinyimagenet/fp/fgsm/inf_norm')]"
   ]
  },
  {
   "cell_type": "code",
   "execution_count": 8,
   "metadata": {},
   "outputs": [
    {
     "data": {
      "image/png": "[encoded data removed]",
      "text/plain": [
       "<Figure size 640x480 with 1 Axes>"
      ]
     },
     "metadata": {},
     "output_type": "display_data"
    }
   ],
   "source": [
    "fig, ax = plt.subplots(1,1)\n",
    "ax.scatter(epsfn, np.zeros_like(epsfn), marker ='|')\n",
    "plt.show()"
   ]
  },
  {
   "cell_type": "code",
   "execution_count": 9,
   "metadata": {},
   "outputs": [],
   "source": [
    "#fgsm_eps_experiment(eps, fn_osr_fgsm, tin_logits_dir + \"fn/fgsm/\", 1)"
   ]
  },
  {
   "cell_type": "code",
   "execution_count": 10,
   "metadata": {},
   "outputs": [],
   "source": [
    "def eps_experiment(eps_list, eps_attack, logdir, number_of_splits=5, **eps_attack_kwargs):\n",
    "    for eps in eps_list:\n",
    "        attack = (lambda yhat, y, model: eps_attack(model, yhat, eps=eps, clip_range=tin_clip_range, **eps_attack_kwargs))\n",
    "        get_avg_osr_auroc_across_splits(path_to_pretrained_weights_folder, tin_val_root_dir, device, logdir + f\"eps_{eps:.3}/\", adv_attack=attack, number_of_splits=number_of_splits, batch_size=100)\n"
   ]
  },
  {
   "cell_type": "code",
   "execution_count": 19,
   "metadata": {},
   "outputs": [
    {
     "name": "stderr",
     "output_type": "stream",
     "text": [
      "100%|██████████| 1/1 [01:22<00:00, 82.15s/it]\n",
      "100%|██████████| 1/1 [01:18<00:00, 78.90s/it]\n",
      "100%|██████████| 1/1 [01:18<00:00, 78.63s/it]\n",
      "100%|██████████| 1/1 [01:18<00:00, 78.13s/it]\n",
      "100%|██████████| 1/1 [01:18<00:00, 78.42s/it]\n",
      "100%|██████████| 1/1 [01:18<00:00, 78.57s/it]\n",
      "100%|██████████| 1/1 [01:18<00:00, 78.58s/it]\n",
      "100%|██████████| 1/1 [01:18<00:00, 78.82s/it]\n",
      "100%|██████████| 1/1 [01:19<00:00, 79.07s/it]\n",
      "100%|██████████| 1/1 [01:18<00:00, 78.90s/it]\n",
      "100%|██████████| 1/1 [01:18<00:00, 78.37s/it]\n",
      "100%|██████████| 1/1 [01:17<00:00, 77.64s/it]\n",
      "100%|██████████| 1/1 [01:18<00:00, 78.53s/it]\n",
      "100%|██████████| 1/1 [01:16<00:00, 76.92s/it]\n",
      "100%|██████████| 1/1 [01:17<00:00, 77.45s/it]\n",
      "100%|██████████| 1/1 [01:17<00:00, 77.48s/it]\n",
      "100%|██████████| 1/1 [01:17<00:00, 77.35s/it]\n",
      "100%|██████████| 1/1 [01:17<00:00, 77.72s/it]\n",
      "100%|██████████| 1/1 [01:16<00:00, 76.91s/it]\n",
      "100%|██████████| 1/1 [01:16<00:00, 76.67s/it]\n",
      "100%|██████████| 1/1 [01:16<00:00, 76.86s/it]\n",
      "100%|██████████| 1/1 [01:16<00:00, 76.69s/it]\n",
      "100%|██████████| 1/1 [01:16<00:00, 76.54s/it]\n",
      "100%|██████████| 1/1 [01:16<00:00, 76.74s/it]\n",
      "100%|██████████| 1/1 [01:16<00:00, 76.64s/it]\n",
      "100%|██████████| 1/1 [01:16<00:00, 76.82s/it]\n",
      "100%|██████████| 1/1 [01:16<00:00, 76.41s/it]\n",
      "100%|██████████| 1/1 [01:16<00:00, 76.30s/it]\n",
      "100%|██████████| 1/1 [01:16<00:00, 76.13s/it]\n",
      "100%|██████████| 1/1 [01:16<00:00, 76.14s/it]\n",
      "100%|██████████| 1/1 [01:16<00:00, 76.17s/it]\n",
      "100%|██████████| 1/1 [01:16<00:00, 76.22s/it]\n",
      "100%|██████████| 1/1 [01:16<00:00, 76.21s/it]\n",
      "100%|██████████| 1/1 [01:17<00:00, 77.59s/it]\n",
      "100%|██████████| 1/1 [01:16<00:00, 76.99s/it]\n",
      "100%|██████████| 1/1 [01:17<00:00, 77.03s/it]\n",
      "100%|██████████| 1/1 [01:17<00:00, 77.19s/it]\n",
      "100%|██████████| 1/1 [01:17<00:00, 77.25s/it]\n",
      "100%|██████████| 1/1 [01:17<00:00, 77.27s/it]\n",
      "100%|██████████| 1/1 [01:17<00:00, 77.28s/it]\n",
      "100%|██████████| 1/1 [01:17<00:00, 77.37s/it]\n",
      "100%|██████████| 1/1 [01:17<00:00, 77.25s/it]\n",
      "100%|██████████| 1/1 [01:17<00:00, 77.06s/it]\n",
      "100%|██████████| 1/1 [01:17<00:00, 77.21s/it]\n",
      "100%|██████████| 1/1 [01:17<00:00, 77.27s/it]\n",
      "100%|██████████| 1/1 [01:17<00:00, 77.08s/it]\n",
      "100%|██████████| 1/1 [01:17<00:00, 77.23s/it]\n",
      "100%|██████████| 1/1 [01:17<00:00, 77.16s/it]\n",
      "100%|██████████| 1/1 [01:17<00:00, 77.16s/it]\n",
      "100%|██████████| 1/1 [01:17<00:00, 77.11s/it]\n",
      "100%|██████████| 1/1 [01:17<00:00, 77.15s/it]\n",
      "100%|██████████| 1/1 [01:17<00:00, 77.36s/it]\n",
      "100%|██████████| 1/1 [01:17<00:00, 77.19s/it]\n",
      "100%|██████████| 1/1 [01:17<00:00, 77.11s/it]\n",
      "100%|██████████| 1/1 [01:16<00:00, 76.89s/it]\n",
      "100%|██████████| 1/1 [01:16<00:00, 76.82s/it]\n",
      "100%|██████████| 1/1 [01:17<00:00, 77.15s/it]\n",
      "100%|██████████| 1/1 [01:17<00:00, 77.46s/it]\n",
      "100%|██████████| 1/1 [01:17<00:00, 77.26s/it]\n",
      "100%|██████████| 1/1 [01:17<00:00, 77.32s/it]\n",
      "100%|██████████| 1/1 [01:17<00:00, 77.28s/it]\n",
      "100%|██████████| 1/1 [01:17<00:00, 77.24s/it]\n",
      "100%|██████████| 1/1 [01:17<00:00, 77.05s/it]\n",
      "100%|██████████| 1/1 [01:16<00:00, 76.98s/it]\n",
      "100%|██████████| 1/1 [01:17<00:00, 77.05s/it]\n",
      "100%|██████████| 1/1 [01:17<00:00, 77.31s/it]\n",
      "100%|██████████| 1/1 [01:17<00:00, 77.20s/it]\n",
      "100%|██████████| 1/1 [01:17<00:00, 77.13s/it]\n",
      "100%|██████████| 1/1 [01:17<00:00, 77.11s/it]\n",
      "100%|██████████| 1/1 [01:17<00:00, 77.12s/it]\n",
      "100%|██████████| 1/1 [01:17<00:00, 77.10s/it]\n",
      "100%|██████████| 1/1 [01:17<00:00, 77.30s/it]\n",
      "100%|██████████| 1/1 [01:17<00:00, 77.10s/it]\n",
      "100%|██████████| 1/1 [01:17<00:00, 77.34s/it]\n",
      "100%|██████████| 1/1 [01:17<00:00, 77.22s/it]\n",
      "100%|██████████| 1/1 [01:17<00:00, 77.11s/it]\n",
      "100%|██████████| 1/1 [01:17<00:00, 77.13s/it]\n",
      "100%|██████████| 1/1 [01:17<00:00, 77.25s/it]\n",
      "100%|██████████| 1/1 [01:17<00:00, 77.09s/it]\n",
      "100%|██████████| 1/1 [01:17<00:00, 77.09s/it]\n",
      "100%|██████████| 1/1 [01:17<00:00, 77.06s/it]\n",
      "100%|██████████| 1/1 [01:17<00:00, 77.12s/it]\n",
      "100%|██████████| 1/1 [01:17<00:00, 77.22s/it]\n",
      "100%|██████████| 1/1 [01:17<00:00, 77.02s/it]\n",
      "100%|██████████| 1/1 [01:17<00:00, 77.15s/it]\n",
      "100%|██████████| 1/1 [01:17<00:00, 77.00s/it]\n",
      "100%|██████████| 1/1 [01:17<00:00, 77.25s/it]\n",
      "100%|██████████| 1/1 [01:17<00:00, 77.24s/it]\n",
      "100%|██████████| 1/1 [01:17<00:00, 77.15s/it]\n",
      "100%|██████████| 1/1 [01:17<00:00, 77.25s/it]\n",
      "100%|██████████| 1/1 [01:17<00:00, 77.10s/it]\n",
      "100%|██████████| 1/1 [01:17<00:00, 77.21s/it]\n",
      "100%|██████████| 1/1 [01:17<00:00, 77.07s/it]\n",
      "100%|██████████| 1/1 [01:17<00:00, 77.30s/it]\n",
      "100%|██████████| 1/1 [01:17<00:00, 77.48s/it]\n",
      "100%|██████████| 1/1 [01:17<00:00, 77.33s/it]\n",
      "100%|██████████| 1/1 [01:17<00:00, 77.30s/it]\n",
      "100%|██████████| 1/1 [01:17<00:00, 77.23s/it]\n",
      "100%|██████████| 1/1 [01:17<00:00, 77.33s/it]\n",
      "100%|██████████| 1/1 [01:17<00:00, 77.47s/it]\n",
      "100%|██████████| 1/1 [01:17<00:00, 77.09s/it]\n",
      "100%|██████████| 1/1 [01:16<00:00, 76.19s/it]\n",
      "100%|██████████| 1/1 [01:17<00:00, 77.17s/it]\n",
      "100%|██████████| 1/1 [01:17<00:00, 77.01s/it]\n",
      "100%|██████████| 1/1 [17:32<00:00, 1052.62s/it]\n",
      "100%|██████████| 1/1 [01:14<00:00, 74.63s/it]\n",
      "100%|██████████| 1/1 [01:15<00:00, 75.22s/it]\n",
      "100%|██████████| 1/1 [34:21<00:00, 2061.07s/it]\n",
      "100%|██████████| 1/1 [05:15<00:00, 315.41s/it]\n",
      "100%|██████████| 1/1 [16:44<00:00, 1004.47s/it]\n",
      "100%|██████████| 1/1 [16:48<00:00, 1008.28s/it]\n",
      "100%|██████████| 1/1 [32:21<00:00, 1941.36s/it]\n",
      "100%|██████████| 1/1 [01:14<00:00, 74.36s/it]\n",
      "100%|██████████| 1/1 [01:14<00:00, 74.38s/it]\n",
      "100%|██████████| 1/1 [16:13<00:00, 973.50s/it]\n",
      "100%|██████████| 1/1 [23:56<00:00, 1436.88s/it]\n",
      "100%|██████████| 1/1 [16:13<00:00, 973.59s/it]\n",
      "100%|██████████| 1/1 [27:04<00:00, 1624.89s/it]\n",
      "100%|██████████| 1/1 [16:13<00:00, 973.58s/it]\n",
      "100%|██████████| 1/1 [13:58<00:00, 838.03s/it]\n",
      "100%|██████████| 1/1 [01:14<00:00, 74.34s/it]\n",
      "100%|██████████| 1/1 [06:53<00:00, 413.31s/it]\n",
      "100%|██████████| 1/1 [20:05<00:00, 1205.20s/it]\n",
      "100%|██████████| 1/1 [17:04<00:00, 1024.43s/it]\n",
      "100%|██████████| 1/1 [17:05<00:00, 1025.75s/it]\n",
      "100%|██████████| 1/1 [05:01<00:00, 301.89s/it]\n",
      "100%|██████████| 1/1 [23:21<00:00, 1401.25s/it]\n",
      "100%|██████████| 1/1 [01:28<00:00, 88.05s/it]\n",
      "100%|██████████| 1/1 [05:54<00:00, 354.47s/it]\n",
      "100%|██████████| 1/1 [16:45<00:00, 1005.65s/it]\n",
      "100%|██████████| 1/1 [01:12<00:00, 72.85s/it]\n",
      "100%|██████████| 1/1 [01:13<00:00, 73.04s/it]\n",
      "100%|██████████| 1/1 [18:49<00:00, 1129.46s/it]\n",
      "100%|██████████| 1/1 [18:03<00:00, 1083.66s/it]\n",
      "100%|██████████| 1/1 [16:58<00:00, 1018.65s/it]\n",
      "100%|██████████| 1/1 [17:43<00:00, 1063.03s/it]\n",
      "100%|██████████| 1/1 [14:34<00:00, 874.06s/it]\n",
      "100%|██████████| 1/1 [01:18<00:00, 78.06s/it]\n",
      "100%|██████████| 1/1 [01:20<00:00, 80.66s/it]\n",
      "100%|██████████| 1/1 [01:19<00:00, 79.80s/it]\n",
      "100%|██████████| 1/1 [01:18<00:00, 78.10s/it]\n",
      "100%|██████████| 1/1 [01:23<00:00, 83.24s/it]\n",
      "100%|██████████| 1/1 [01:21<00:00, 81.41s/it]\n",
      "100%|██████████| 1/1 [01:29<00:00, 89.85s/it]\n",
      "100%|██████████| 1/1 [01:32<00:00, 92.32s/it]\n",
      "100%|██████████| 1/1 [01:29<00:00, 89.72s/it]\n",
      "100%|██████████| 1/1 [01:29<00:00, 89.99s/it]\n",
      "100%|██████████| 1/1 [01:30<00:00, 90.02s/it]\n",
      "100%|██████████| 1/1 [01:30<00:00, 90.31s/it]\n",
      "100%|██████████| 1/1 [01:31<00:00, 91.04s/it]\n",
      "100%|██████████| 1/1 [01:32<00:00, 92.34s/it]\n"
     ]
    }
   ],
   "source": [
    "# eps_experiment(eps_list=eps, fgsm=fp_osr_fgsm, logdir=tin_logits_dir + \"fp/fgsm/two_norm/\", number_of_splits=1, norm_ord=None)\n",
    "# eps_experiment(eps_list=eps, fgsm=fp_osr_fgsm, logdir=tin_logits_dir + \"fp/fgsm/inf_norm/\", number_of_splits=1, norm_ord=torch.inf)\n",
    "# eps_experiment(eps_list=eps, fgsm=fp_osr_fgsm_sum_exp, logdir=tin_logits_dir + \"fp/fgsm/sum_exp/\", number_of_splits=1)\n",
    "# eps_experiment(eps_list=eps, fgsm=fn_osr_fgsm, logdir=tin_logits_dir + \"fn/fgsm/inf_norm/\", number_of_splits=1, norm_ord=torch.inf)\n",
    "# eps_experiment(eps_list=eps, eps_attack=fn_osr_fgsm_log_msp, logdir=tin_logits_dir + \"fn/fgsm/log_msp/\", number_of_splits=1)\n",
    "# eps_experiment(eps_list=eps, fgsm=fn_osr_fgsm_sum_exp, logdir=tin_logits_dir + \"fn/fgsm/sum_exp/\", number_of_splits=1)\n",
    "# eps_experiment(eps_list=eps, eps_attack=fn_osr_fgsm, logdir=tin_logits_dir + \"fn/fgsm/two_norm/\", number_of_splits=1, norm_ord=None)\n",
    "eps_experiment(eps_list=epsfn, eps_attack=fn_osr_fgsm_max, logdir=tin_logits_dir + \"fn/fgsm/max/\", number_of_splits=1)\n",
    "eps_experiment(eps_list=epsfp, eps_attack=fp_osr_fgsm_max, logdir=tin_logits_dir + \"fp/fgsm/max/\", number_of_splits=1)\n"
   ]
  },
  {
   "attachments": {},
   "cell_type": "markdown",
   "metadata": {},
   "source": [
    "### Saving Grad Norms \n",
    "Testing Odin paper"
   ]
  },
  {
   "cell_type": "code",
   "execution_count": 19,
   "metadata": {},
   "outputs": [],
   "source": [
    "#save_grad_norms_across_splits(path_to_pretrained_weights_folder, tin_val_root_dir, tin_grad_norms_dir + 'log_msp/', log_msp_loss, device, number_of_splits=5)"
   ]
  },
  {
   "attachments": {},
   "cell_type": "markdown",
   "metadata": {},
   "source": [
    "### Informed Attack"
   ]
  },
  {
   "cell_type": "code",
   "execution_count": 11,
   "metadata": {},
   "outputs": [],
   "source": [
    "save_informed_attack(tin_logits_dir + 'informed/fgsm/exp1/',\n",
    "                     tin_logits_dir + 'fn/fgsm/max/eps_0.0737/', \n",
    "                     tin_logits_dir + 'fp/fgsm/two_norm/eps_0.0622/', 0)\n",
    "save_informed_attack(tin_logits_dir + 'informed/fgsm/exp2/', \n",
    "                     tin_logits_dir + 'plain/', \n",
    "                     tin_logits_dir + 'fp/fgsm/two_norm/eps_0.0622/', 0)\n",
    "save_informed_attack(tin_logits_dir + 'informed/fgsm/exp3/',\n",
    "                     tin_logits_dir + 'fn/fgsm/max/eps_0.0737/', \n",
    "                     tin_logits_dir + 'plain/', 0)"
   ]
  },
  {
   "attachments": {},
   "cell_type": "markdown",
   "metadata": {},
   "source": [
    "## Saving Iterative Attacks"
   ]
  },
  {
   "cell_type": "code",
   "execution_count": 12,
   "metadata": {},
   "outputs": [
    {
     "name": "stderr",
     "output_type": "stream",
     "text": [
      "  0%|          | 0/1 [00:00<?, ?it/s]/opt/homebrew/anaconda3/lib/python3.9/site-packages/torch/optim/rprop.py:204: UserWarning: The operator 'aten::nonzero' is not currently supported on the MPS backend and will fall back to run on the CPU. This may have performance implications. (Triggered internally at /Users/runner/work/_temp/anaconda/conda-bld/pytorch_1670525849783/work/aten/src/ATen/mps/MPSFallback.mm:11.)\n",
      "  sign[sign.gt(0)] = etaplus\n",
      "100%|██████████| 1/1 [56:14<00:00, 3374.70s/it]\n"
     ]
    }
   ],
   "source": [
    "# eps_experiment([0.139], eps_attack=fn_osr_itat, logdir=tin_logits_dir + 'fn/itat/inf_norm/', norm_ord=torch.inf, max_iter=25, step_sizes=(1e-06, 1), number_of_splits=1)\n",
    "# eps_experiment([0.0622], eps_attack=fp_osr_itat, logdir=tin_logits_dir + 'fp/itat/two_norm/', norm_ord=None, max_iter=25, step_sizes=(1e-06, 1), number_of_splits=1)\n",
    "eps_experiment([0.0737], eps_attack=fn_osr_itat_max, logdir=tin_logits_dir + 'fn/itat/max/', max_iter=25, step_sizes=(1e-06, 1), number_of_splits=1)"
   ]
  },
  {
   "cell_type": "code",
   "execution_count": 13,
   "metadata": {},
   "outputs": [],
   "source": [
    "save_informed_attack(tin_logits_dir + 'informed/itat/exp1/',\n",
    "                     tin_logits_dir + 'fn/itat/max/eps_0.0737/', \n",
    "                     tin_logits_dir + 'fp/itat/two_norm/eps_0.0622/', 0)\n",
    "save_informed_attack(tin_logits_dir + 'informed/itat/exp2/', \n",
    "                     tin_logits_dir + 'plain/', \n",
    "                     tin_logits_dir + 'fp/itat/two_norm/eps_0.0622/', 0)\n",
    "save_informed_attack(tin_logits_dir + 'informed/itat/exp3/',\n",
    "                     tin_logits_dir + 'fn/itat/max/eps_0.0737/', \n",
    "                     tin_logits_dir + 'plain/', 0)"
   ]
  },
  {
   "cell_type": "code",
   "execution_count": null,
   "metadata": {},
   "outputs": [],
   "source": []
  }
 ],
 "metadata": {
  "kernelspec": {
   "display_name": "base",
   "language": "python",
   "name": "python3"
  },
  "language_info": {
   "codemirror_mode": {
    "name": "ipython",
    "version": 3
   },
   "file_extension": ".py",
   "mimetype": "text/x-python",
   "name": "python",
   "nbconvert_exporter": "python",
   "pygments_lexer": "ipython3",
   "version": "3.9.13"
  },
  "orig_nbformat": 4
 },
 "nbformat": 4,
 "nbformat_minor": 2
}
