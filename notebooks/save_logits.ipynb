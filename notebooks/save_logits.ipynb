{
 "cells": [
  {
   "attachments": {},
   "cell_type": "markdown",
   "metadata": {},
   "source": [
    "# Saving logits of original and adversarially attacked inputs"
   ]
  },
  {
   "cell_type": "markdown",
   "metadata": {},
   "source": [
    "The \"hack\" below allows absolute path imports as if the notebook was a py-file run with `python -m abs.path.to.file.filename`"
   ]
  },
  {
   "cell_type": "code",
   "execution_count": 1,
   "metadata": {},
   "outputs": [],
   "source": [
    "import sys\n",
    "root_dir = !cd .. &&pwd\n",
    "root_dir = root_dir[0] + \"/\"\n",
    "sys.path.insert(0, root_dir)"
   ]
  },
  {
   "cell_type": "code",
   "execution_count": 2,
   "metadata": {},
   "outputs": [
    {
     "name": "stdout",
     "output_type": "stream",
     "text": [
      "/Users/gunder/Desktop/bachelor_project/\n"
     ]
    }
   ],
   "source": [
    "print(root_dir)"
   ]
  },
  {
   "cell_type": "markdown",
   "metadata": {},
   "source": [
    "### Imports"
   ]
  },
  {
   "cell_type": "code",
   "execution_count": 3,
   "metadata": {},
   "outputs": [],
   "source": [
    "import torch\n",
    "import numpy as np\n",
    "import matplotlib.pyplot as plt\n",
    "\n",
    "from models.classifier32 import classifier32\n",
    "\n",
    "from our_modules.tin_tools import get_avg_osr_auroc_across_splits\n",
    "from our_modules.tin_tools import transform_range as tin_clip_range\n",
    "from our_modules.tin_tools import save_grad_norms_across_splits\n",
    "from our_modules.tin_tools import save_informed_attack\n",
    "\n",
    "from our_modules.adv_tools import fp_osr_fgsm, fn_osr_fgsm, fp_osr_fgsm_sum_exp, fn_osr_fgsm_log_msp, fn_osr_fgsm_sum_exp\n",
    "from our_modules.adv_tools import log_msp_loss\n",
    "from our_modules.adv_tools import fp_osr_itat, fn_osr_itat\n",
    "from our_modules.adv_tools import norm_loss\n",
    "\n"
   ]
  },
  {
   "cell_type": "markdown",
   "metadata": {},
   "source": [
    "### Setting the Device"
   ]
  },
  {
   "cell_type": "code",
   "execution_count": 4,
   "metadata": {},
   "outputs": [
    {
     "name": "stdout",
     "output_type": "stream",
     "text": [
      "device: mps\n"
     ]
    }
   ],
   "source": [
    "if sys.platform == 'darwin':\n",
    "    device = torch.device(\"mps\")\n",
    "else:\n",
    "    gpu = torch.cuda.is_available()\n",
    "    device = torch.device(\"cuda:0\" if gpu else \"cpu\")\n",
    "\n",
    "print(\"device:\", device)"
   ]
  },
  {
   "attachments": {},
   "cell_type": "markdown",
   "metadata": {},
   "source": [
    "## tiny-imagenet"
   ]
  },
  {
   "cell_type": "code",
   "execution_count": 5,
   "metadata": {},
   "outputs": [],
   "source": [
    "path_to_pretrained_weights_folder = root_dir + \"pretrained_weights/\"\n",
    "tin_val_root_dir = root_dir + \"datasets/tiny-imagenet-200/val/images/\"\n",
    "tin_logits_dir = root_dir + \"logits/tinyimagenet/\"\n",
    "tin_grad_norms_dir = root_dir + 'grad_norms/tinyimagenet/'"
   ]
  },
  {
   "attachments": {},
   "cell_type": "markdown",
   "metadata": {},
   "source": [
    "### Saving plain logits"
   ]
  },
  {
   "cell_type": "code",
   "execution_count": 6,
   "metadata": {},
   "outputs": [],
   "source": [
    "#get_avg_osr_auroc_across_splits(path_to_pretrained_weights_folder, tin_val_root_dir, device, logdir=tin_logits_dir + \"plain/\")"
   ]
  },
  {
   "attachments": {},
   "cell_type": "markdown",
   "metadata": {},
   "source": [
    "### Savining Advesarial Attacks Logits"
   ]
  },
  {
   "attachments": {},
   "cell_type": "markdown",
   "metadata": {},
   "source": [
    "#### FGSM for different epsilon"
   ]
  },
  {
   "attachments": {},
   "cell_type": "markdown",
   "metadata": {},
   "source": [
    "##### FN"
   ]
  },
  {
   "cell_type": "code",
   "execution_count": 27,
   "metadata": {},
   "outputs": [],
   "source": [
    "def eps_experiment(eps_list, eps_attack, logdir, number_of_splits=5, **eps_attack_kwargs):\n",
    "    for eps in eps_list:\n",
    "        attack = (lambda yhat, y, model: eps_attack(model, yhat, eps=eps, clip_range=tin_clip_range, **eps_attack_kwargs))\n",
    "        get_avg_osr_auroc_across_splits(path_to_pretrained_weights_folder, tin_val_root_dir, device, logdir + f\"eps_{eps:.3}/\", adv_attack=attack, number_of_splits=number_of_splits, batch_size=100)\n"
   ]
  },
  {
   "cell_type": "code",
   "execution_count": 35,
   "metadata": {},
   "outputs": [],
   "source": [
    "eps = np.array([1.2, 1.4, 1.6, 1.8, 2.0, 2.25, 2.50, 2.75, 3.0, 4.0])\n",
    "eps = list(np.linspace(0.11,0.19,5))"
   ]
  },
  {
   "cell_type": "code",
   "execution_count": 36,
   "metadata": {},
   "outputs": [
    {
     "data": {
      "image/png": "[encoded data removed]",
      "text/plain": [
       "<Figure size 640x480 with 1 Axes>"
      ]
     },
     "metadata": {},
     "output_type": "display_data"
    }
   ],
   "source": [
    "fig, ax = plt.subplots(1,1)\n",
    "ax.scatter(eps, np.zeros_like(eps), marker ='|')\n",
    "plt.show()"
   ]
  },
  {
   "cell_type": "code",
   "execution_count": 37,
   "metadata": {},
   "outputs": [],
   "source": [
    "#fgsm_eps_experiment(eps, fn_osr_fgsm, tin_logits_dir + \"fn/fgsm/\", 1)"
   ]
  },
  {
   "attachments": {},
   "cell_type": "markdown",
   "metadata": {},
   "source": [
    "#### FP"
   ]
  },
  {
   "attachments": {},
   "cell_type": "markdown",
   "metadata": {},
   "source": [
    "2-norm"
   ]
  },
  {
   "cell_type": "code",
   "execution_count": 38,
   "metadata": {},
   "outputs": [
    {
     "name": "stderr",
     "output_type": "stream",
     "text": [
      "100%|██████████| 1/1 [01:42<00:00, 102.80s/it]\n",
      "100%|██████████| 1/1 [01:40<00:00, 100.54s/it]\n",
      "100%|██████████| 1/1 [01:40<00:00, 100.74s/it]\n",
      "100%|██████████| 1/1 [01:39<00:00, 99.33s/it]\n",
      "100%|██████████| 1/1 [01:41<00:00, 101.64s/it]\n"
     ]
    }
   ],
   "source": [
    "# eps_experiment(eps_list=eps, fgsm=fp_osr_fgsm, logdir=tin_logits_dir + \"fp/fgsm/two_norm/\", number_of_splits=1, norm_ord=None)\n",
    "# eps_experiment(eps_list=eps, fgsm=fp_osr_fgsm, logdir=tin_logits_dir + \"fp/fgsm/inf_norm/\", number_of_splits=1, norm_ord=torch.inf)\n",
    "# eps_experiment(eps_list=eps, fgsm=fp_osr_fgsm_sum_exp, logdir=tin_logits_dir + \"fp/fgsm/sum_exp/\", number_of_splits=1)\n",
    "# eps_experiment(eps_list=eps, fgsm=fn_osr_fgsm, logdir=tin_logits_dir + \"fn/fgsm/inf_norm/\", number_of_splits=1, norm_ord=torch.inf)\n",
    "eps_experiment(eps_list=eps, eps_attack=fn_osr_fgsm_log_msp, logdir=tin_logits_dir + \"fn/fgsm/log_msp/\", number_of_splits=1)\n",
    "# eps_experiment(eps_list=eps, fgsm=fn_osr_fgsm_sum_exp, logdir=tin_logits_dir + \"fn/fgsm/sum_exp/\", number_of_splits=1)\n",
    "# eps_experiment(eps_list=eps, eps_attack=fn_osr_fgsm, logdir=tin_logits_dir + \"fn/fgsm/two_norm/\", number_of_splits=1, norm_ord=None)"
   ]
  },
  {
   "attachments": {},
   "cell_type": "markdown",
   "metadata": {},
   "source": [
    "### Saving Grad Norms \n",
    "Testing Odin paper"
   ]
  },
  {
   "cell_type": "code",
   "execution_count": 19,
   "metadata": {},
   "outputs": [],
   "source": [
    "#save_grad_norms_across_splits(path_to_pretrained_weights_folder, tin_val_root_dir, tin_grad_norms_dir + 'log_msp/', log_msp_loss, device, number_of_splits=5)"
   ]
  },
  {
   "attachments": {},
   "cell_type": "markdown",
   "metadata": {},
   "source": [
    "### Informed Attack"
   ]
  },
  {
   "cell_type": "code",
   "execution_count": 20,
   "metadata": {},
   "outputs": [],
   "source": [
    "# save_informed_attack(tin_logits_dir + 'informed/fgsm/exp1/',\n",
    "#                      tin_logits_dir + 'fn/fgsm/inf_norm/eps_0.139/', \n",
    "#                      tin_logits_dir + 'fp/fgsm/two_norm/eps_0.0622/', 0)\n",
    "# save_informed_attack(tin_logits_dir + 'informed/fgsm/exp2/', \n",
    "#                      tin_logits_dir + 'plain/', \n",
    "#                      tin_logits_dir + 'fp/fgsm/two_norm/eps_0.0622/', 0)\n",
    "# save_informed_attack(tin_logits_dir + 'informed/fgsm/exp3/',\n",
    "#                      tin_logits_dir + 'fn/fgsm/inf_norm/eps_0.139/', \n",
    "#                      tin_logits_dir + 'plain/', 0)"
   ]
  },
  {
   "attachments": {},
   "cell_type": "markdown",
   "metadata": {},
   "source": [
    "## Saving Iterative Attacks"
   ]
  },
  {
   "cell_type": "code",
   "execution_count": 21,
   "metadata": {},
   "outputs": [
    {
     "name": "stderr",
     "output_type": "stream",
     "text": [
      "  0%|          | 0/1 [00:00<?, ?it/s]/Users/gunder/Desktop/bachelor_project/our_modules/adv_tools.py:8: UserWarning: The operator 'aten::linalg_vector_norm' is not currently supported on the MPS backend and will fall back to run on the CPU. This may have performance implications. (Triggered internally at /Users/runner/work/_temp/anaconda/conda-bld/pytorch_1670525849783/work/aten/src/ATen/mps/MPSFallback.mm:11.)\n",
      "  return torch.linalg.norm(y_hat, **norm_kwargs)\n",
      "100%|██████████| 1/1 [1:09:21<00:00, 4161.72s/it]\n"
     ]
    }
   ],
   "source": [
    "# eps_experiment([0.139], eps_attack=fn_osr_itat, logdir=tin_logits_dir + 'fn/itat/inf_norm/', norm_ord=torch.inf, max_iter=25, step_sizes=(1e-06, 1), number_of_splits=1)\n",
    "# eps_experiment([0.0622], eps_attack=fp_osr_itat, logdir=tin_logits_dir + 'fp/itat/two_norm/', norm_ord=None, max_iter=25, step_sizes=(1e-06, 1), number_of_splits=1)"
   ]
  },
  {
   "cell_type": "code",
   "execution_count": 8,
   "metadata": {},
   "outputs": [],
   "source": [
    "save_informed_attack(tin_logits_dir + 'informed/itat/exp1/',\n",
    "                     tin_logits_dir + 'fn/itat/inf_norm/eps_0.139/', \n",
    "                     tin_logits_dir + 'fp/itat/two_norm/eps_0.0622/', 0)\n",
    "save_informed_attack(tin_logits_dir + 'informed/itat/exp2/', \n",
    "                     tin_logits_dir + 'plain/', \n",
    "                     tin_logits_dir + 'fp/itat/two_norm/eps_0.0622/', 0)\n",
    "save_informed_attack(tin_logits_dir + 'informed/itat/exp3/',\n",
    "                     tin_logits_dir + 'fn/itat/inf_norm/eps_0.139/', \n",
    "                     tin_logits_dir + 'plain/', 0)"
   ]
  },
  {
   "cell_type": "code",
   "execution_count": null,
   "metadata": {},
   "outputs": [],
   "source": []
  }
 ],
 "metadata": {
  "kernelspec": {
   "display_name": "base",
   "language": "python",
   "name": "python3"
  },
  "language_info": {
   "codemirror_mode": {
    "name": "ipython",
    "version": 3
   },
   "file_extension": ".py",
   "mimetype": "text/x-python",
   "name": "python",
   "nbconvert_exporter": "python",
   "pygments_lexer": "ipython3",
   "version": "3.9.13"
  },
  "orig_nbformat": 4
 },
 "nbformat": 4,
 "nbformat_minor": 2
}
