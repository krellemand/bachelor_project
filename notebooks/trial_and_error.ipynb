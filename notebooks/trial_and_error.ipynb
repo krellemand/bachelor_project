{
 "cells": [
  {
   "cell_type": "code",
   "execution_count": 2,
   "metadata": {},
   "outputs": [],
   "source": [
    "import sys\n",
    "root_dir = !cd .. &&pwd\n",
    "root_dir = root_dir[0] + \"/\"\n",
    "sys.path.insert(0, root_dir)"
   ]
  },
  {
   "cell_type": "code",
   "execution_count": 3,
   "metadata": {},
   "outputs": [
    {
     "name": "stdout",
     "output_type": "stream",
     "text": [
      "/Users/gunder/Desktop/bachelor_project/\n"
     ]
    }
   ],
   "source": [
    "print(root_dir)"
   ]
  },
  {
   "cell_type": "markdown",
   "metadata": {},
   "source": [
    "### Imports"
   ]
  },
  {
   "cell_type": "code",
   "execution_count": 16,
   "metadata": {},
   "outputs": [],
   "source": [
    "import os\n",
    "import torch\n",
    "import matplotlib.pyplot as plt\n",
    "from our_modules.eval_tools import load_and_eval_mls_osr\n",
    "from our_modules.plot_tools import plot_roc\n",
    "from data.tinyimagenet import TinyImageNet\n",
    "from our_modules.tin_tools import test_transform"
   ]
  },
  {
   "cell_type": "markdown",
   "metadata": {},
   "source": [
    "### Setting the Device"
   ]
  },
  {
   "cell_type": "code",
   "execution_count": 6,
   "metadata": {},
   "outputs": [
    {
     "name": "stdout",
     "output_type": "stream",
     "text": [
      "device: mps\n"
     ]
    }
   ],
   "source": [
    "if sys.platform == 'darwin':\n",
    "    device = torch.device(\"mps\")\n",
    "else:\n",
    "    gpu = torch.cuda.is_available()\n",
    "    device = torch.device(\"cuda:0\" if gpu else \"cpu\")\n",
    "\n",
    "print(\"device:\", device)"
   ]
  },
  {
   "cell_type": "code",
   "execution_count": 5,
   "metadata": {},
   "outputs": [],
   "source": [
    "roc_stats_plain, _ = load_and_eval_mls_osr(root_dir + \"logits/tinyimagenet/plain/logits_0.pt\", root_dir + \"logits/tinyimagenet/plain/csr_targets_0.pt\",\n",
    "                      0, dataset_name='tinyimagenet')\n",
    "# roc_stats_fp, _ = load_and_eval_mls_osr(root_dir + \"logits/tinyimagenet/fgsm_fp_attack/logits_split_0.pt\", root_dir + \"logits/tinyimagenet/plain/csr_targets_split_0.pt\",\n",
    "#                                       0, dataset_name='tinyimagenet')\n",
    "# roc_stats_fn, _ = load_and_eval_mls_osr(root_dir + \"logits/tinyimagenet/fgsm_fn_attack/logits_split_0.pt\", root_dir + \"logits/tinyimagenet/plain/csr_targets_split_0.pt\",\n",
    "#                                       0, dataset_name='tinyimagenet')"
   ]
  },
  {
   "cell_type": "code",
   "execution_count": 6,
   "metadata": {},
   "outputs": [
    {
     "ename": "NameError",
     "evalue": "name 'roc_stats_fp' is not defined",
     "output_type": "error",
     "traceback": [
      "\u001b[0;31m---------------------------------------------------------------------------\u001b[0m",
      "\u001b[0;31mNameError\u001b[0m                                 Traceback (most recent call last)",
      "\u001b[1;32m/Users/gunder/Desktop/bachelor_project/notebooks/visualizing_adv_attacks.ipynb Cell 8\u001b[0m in \u001b[0;36m<cell line: 3>\u001b[0;34m()\u001b[0m\n\u001b[1;32m      <a href='vscode-notebook-cell:/Users/gunder/Desktop/bachelor_project/notebooks/visualizing_adv_attacks.ipynb#X10sZmlsZQ%3D%3D?line=0'>1</a>\u001b[0m fig, ax \u001b[39m=\u001b[39m plt\u001b[39m.\u001b[39msubplots(\u001b[39m1\u001b[39m,\u001b[39m1\u001b[39m,figsize\u001b[39m=\u001b[39m(\u001b[39m8\u001b[39m,\u001b[39m8\u001b[39m))\n\u001b[1;32m      <a href='vscode-notebook-cell:/Users/gunder/Desktop/bachelor_project/notebooks/visualizing_adv_attacks.ipynb#X10sZmlsZQ%3D%3D?line=1'>2</a>\u001b[0m plot_roc(ax, roc_stats_plain, label\u001b[39m=\u001b[39m\u001b[39m'\u001b[39m\u001b[39mBefore\u001b[39m\u001b[39m'\u001b[39m)\n\u001b[0;32m----> <a href='vscode-notebook-cell:/Users/gunder/Desktop/bachelor_project/notebooks/visualizing_adv_attacks.ipynb#X10sZmlsZQ%3D%3D?line=2'>3</a>\u001b[0m plot_roc(ax, roc_stats_fp, label\u001b[39m=\u001b[39m\u001b[39m\"\u001b[39m\u001b[39mFP attack\u001b[39m\u001b[39m\"\u001b[39m)\n\u001b[1;32m      <a href='vscode-notebook-cell:/Users/gunder/Desktop/bachelor_project/notebooks/visualizing_adv_attacks.ipynb#X10sZmlsZQ%3D%3D?line=3'>4</a>\u001b[0m plot_roc(ax, roc_stats_fn, label\u001b[39m=\u001b[39m\u001b[39m\"\u001b[39m\u001b[39mFN attack\u001b[39m\u001b[39m\"\u001b[39m)\n\u001b[1;32m      <a href='vscode-notebook-cell:/Users/gunder/Desktop/bachelor_project/notebooks/visualizing_adv_attacks.ipynb#X10sZmlsZQ%3D%3D?line=4'>5</a>\u001b[0m plt\u001b[39m.\u001b[39mlegend()\n",
      "\u001b[0;31mNameError\u001b[0m: name 'roc_stats_fp' is not defined"
     ]
    },
    {
     "data": {
      "image/png": "[encoded data removed]",
      "text/plain": [
       "<Figure size 800x800 with 1 Axes>"
      ]
     },
     "metadata": {},
     "output_type": "display_data"
    }
   ],
   "source": [
    "fig, ax = plt.subplots(1,1,figsize=(8,8))\n",
    "plot_roc(ax, roc_stats_plain, label='Before')\n",
    "# plot_roc(ax, roc_stats_fp, label=\"FP attack\")\n",
    "# plot_roc(ax, roc_stats_fn, label=\"FN attack\")\n",
    "plt.legend()\n",
    "plt.show()"
   ]
  },
  {
   "cell_type": "code",
   "execution_count": 17,
   "metadata": {},
   "outputs": [],
   "source": [
    "data = TinyImageNet(root_dir + 'datasets/tiny-imagenet-200/val/images/', test_transform)"
   ]
  },
  {
   "cell_type": "code",
   "execution_count": 20,
   "metadata": {},
   "outputs": [
    {
     "name": "stdout",
     "output_type": "stream",
     "text": [
      "tensor(2.7537)\n",
      "tensor(-2.4097)\n"
     ]
    },
    {
     "ename": "ZeroDivisionError",
     "evalue": "division by zero",
     "output_type": "error",
     "traceback": [
      "\u001b[0;31m---------------------------------------------------------------------------\u001b[0m",
      "\u001b[0;31mZeroDivisionError\u001b[0m                         Traceback (most recent call last)",
      "\u001b[1;32m/Users/gunder/Desktop/bachelor_project/notebooks/trial_and_error.ipynb Cell 10\u001b[0m in \u001b[0;36m<cell line: 1>\u001b[0;34m()\u001b[0m\n\u001b[1;32m      <a href='vscode-notebook-cell:/Users/gunder/Desktop/bachelor_project/notebooks/trial_and_error.ipynb#X15sZmlsZQ%3D%3D?line=1'>2</a>\u001b[0m \u001b[39mprint\u001b[39m(torch\u001b[39m.\u001b[39mmax(x))\n\u001b[1;32m      <a href='vscode-notebook-cell:/Users/gunder/Desktop/bachelor_project/notebooks/trial_and_error.ipynb#X15sZmlsZQ%3D%3D?line=2'>3</a>\u001b[0m \u001b[39mprint\u001b[39m(torch\u001b[39m.\u001b[39mmin(x))\n\u001b[0;32m----> <a href='vscode-notebook-cell:/Users/gunder/Desktop/bachelor_project/notebooks/trial_and_error.ipynb#X15sZmlsZQ%3D%3D?line=3'>4</a>\u001b[0m \u001b[39m1\u001b[39;49m\u001b[39m/\u001b[39;49m\u001b[39m0\u001b[39;49m\n",
      "\u001b[0;31mZeroDivisionError\u001b[0m: division by zero"
     ]
    }
   ],
   "source": [
    "for x, _, _ in data:\n",
    "    print(torch.max(x))\n",
    "    print(torch.min(x))\n",
    "    1/0"
   ]
  },
  {
   "cell_type": "code",
   "execution_count": null,
   "metadata": {},
   "outputs": [],
   "source": []
  }
 ],
 "metadata": {
  "kernelspec": {
   "display_name": "bsc",
   "language": "python",
   "name": "bsc"
  },
  "language_info": {
   "codemirror_mode": {
    "name": "ipython",
    "version": 3
   },
   "file_extension": ".py",
   "mimetype": "text/x-python",
   "name": "python",
   "nbconvert_exporter": "python",
   "pygments_lexer": "ipython3",
   "version": "3.10.9"
  },
  "orig_nbformat": 4
 },
 "nbformat": 4,
 "nbformat_minor": 2
}
